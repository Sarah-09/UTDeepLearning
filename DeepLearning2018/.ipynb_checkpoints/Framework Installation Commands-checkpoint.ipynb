{
 "cells": [
  {
   "cell_type": "markdown",
   "metadata": {},
   "source": [
    "## Installation Commands\n",
    "In the following, the installation commands for Tensorflow, Keras and h5py are prepared. For installing each package, all you need to do is running each cell separately. To do so, just go to that cell and hit (shift + enter) simultaneously. Note: You should be connected to the internet to run this commands properly. Furthermore, for Tensorflow installation a proxy application is required."
   ]
  },
  {
   "cell_type": "markdown",
   "metadata": {},
   "source": [
    "### Tensorflow Installation:\n",
    "Based on which operating system you use, choose one of the three following cells and run it."
   ]
  },
  {
   "cell_type": "markdown",
   "metadata": {},
   "source": [
    "#### For Windows Users:"
   ]
  },
  {
   "cell_type": "code",
   "execution_count": null,
   "metadata": {
    "collapsed": true
   },
   "outputs": [],
   "source": [
    "!pip install --ignore-installed --upgrade tensorflow"
   ]
  },
  {
   "cell_type": "markdown",
   "metadata": {},
   "source": [
    "#### For Linux (Ubuntu) Users:"
   ]
  },
  {
   "cell_type": "code",
   "execution_count": null,
   "metadata": {
    "collapsed": true
   },
   "outputs": [],
   "source": [
    "!pip install --ignore-installed --upgrade https://storage.googleapis.com/tensorflow/linux/cpu/tensorflow-1.9.0-cp36-cp36m-linux_x86_64.whl"
   ]
  },
  {
   "cell_type": "markdown",
   "metadata": {},
   "source": [
    "#### For Mac Users:"
   ]
  },
  {
   "cell_type": "code",
   "execution_count": null,
   "metadata": {},
   "outputs": [
    {
     "name": "stdout",
     "output_type": "stream",
     "text": [
      "Collecting tensorflow==1.9.0 from https://storage.googleapis.com/tensorflow/mac/cpu/tensorflow-1.9.0-py3-none-any.whl\n",
      "\u001b[?25l  Downloading https://storage.googleapis.com/tensorflow/mac/cpu/tensorflow-1.9.0-py3-none-any.whl (48.9MB)\n",
      "\u001b[K    99% |████████████████████████████████| 48.8MB 357kB/s eta 0:00:011   17% |█████▊                          | 8.7MB 546kB/s eta 0:01:14    26% |████████▋                       | 13.1MB 541kB/s eta 0:01:07    30% |█████████▉                      | 15.0MB 892kB/s eta 0:00:38    32% |██████████▋                     | 16.1MB 171kB/s eta 0:03:11    57% |██████████████████▍             | 28.0MB 553kB/s eta 0:00:38    65% |████████████████████▉           | 31.8MB 519kB/s eta 0:00:33    71% |██████████████████████▊         | 34.7MB 397kB/s eta 0:00:36    80% |██████████████████████████      | 39.6MB 270kB/s eta 0:00:35    86% |███████████████████████████▉    | 42.5MB 165kB/s eta 0:00:39    89% |████████████████████████████▊   | 43.9MB 2.8MB/s eta 0:00:02    94% |██████████████████████████████▏ | 46.0MB 175kB/s eta 0:00:16"
     ]
    }
   ],
   "source": [
    "!pip install --upgrade https://storage.googleapis.com/tensorflow/mac/cpu/tensorflow-1.9.0-py3-none-any.whl"
   ]
  },
  {
   "cell_type": "markdown",
   "metadata": {},
   "source": [
    "### Keras Installation (For all OSs):"
   ]
  },
  {
   "cell_type": "code",
   "execution_count": null,
   "metadata": {
    "collapsed": true
   },
   "outputs": [],
   "source": [
    "!pip install keras"
   ]
  },
  {
   "cell_type": "markdown",
   "metadata": {},
   "source": [
    "### H5py Installation:"
   ]
  },
  {
   "cell_type": "code",
   "execution_count": null,
   "metadata": {
    "collapsed": true
   },
   "outputs": [],
   "source": [
    "!pip install h5py"
   ]
  },
  {
   "cell_type": "markdown",
   "metadata": {},
   "source": [
    "### Test your Installation + Download MNIST Dataset\n",
    "To test your installation please run the following cell. (This will download the MNIST dataset too)"
   ]
  },
  {
   "cell_type": "code",
   "execution_count": null,
   "metadata": {
    "collapsed": true
   },
   "outputs": [],
   "source": [
    "from keras.datasets import mnist\n",
    "(x_train, y_train), (x_test, y_test) = mnist.load_data()"
   ]
  }
 ],
 "metadata": {
  "kernelspec": {
   "display_name": "Python 3",
   "language": "python",
   "name": "python3"
  },
  "language_info": {
   "codemirror_mode": {
    "name": "ipython",
    "version": 3
   },
   "file_extension": ".py",
   "mimetype": "text/x-python",
   "name": "python",
   "nbconvert_exporter": "python",
   "pygments_lexer": "ipython3",
   "version": "3.6.5"
  }
 },
 "nbformat": 4,
 "nbformat_minor": 2
}
