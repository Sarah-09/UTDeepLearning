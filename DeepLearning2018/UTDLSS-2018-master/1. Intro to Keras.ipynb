{
 "cells": [
  {
   "cell_type": "markdown",
   "metadata": {},
   "source": [
    "## 0. What We Are Going To Do:\n",
    "We are going to classify images of handwritten digits (MNIST dataset) using a fully-connected neural network.\n",
    "\n",
    "![MLNN](img/mlp.png)\n",
    "\n",
    "After successful training, our model will be able to guess the digit in the image.\n",
    "\n",
    "IMPORTANT NOTE: Some part of the code is already completed. Do not delete them!"
   ]
  },
  {
   "cell_type": "markdown",
   "metadata": {},
   "source": [
    "** In this section we import all the packages you need(You may edit & rerun this part later)**\n",
    "\n",
    "Note: You can also import classes/functions within a package directly (e.g. from keras.layers import Dense).\n"
   ]
  },
  {
   "cell_type": "code",
   "execution_count": null,
   "metadata": {},
   "outputs": [],
   "source": [
    "import keras\n",
    "import matplotlib.pyplot as plt #This package is for plotting\n",
    "%matplotlib inline  \n",
    "import numpy as np\n",
    "from keras.datasets import mnist\n",
    "from keras.models import Sequential\n",
    "from keras.layers import Dense, Input\n",
    "from keras.optimizers import SGD\n",
    "from keras.initializers import RandomNormal\n",
    "from keras.models import load_model"
   ]
  },
  {
   "cell_type": "markdown",
   "metadata": {},
   "source": [
    "## 1. Prepare Data:\n",
    "\n",
    "The dataset is loaded in this section. \n",
    "\n",
    "**1-0. Check the dimensions of data and its minimum & maximum.**\n",
    "\n",
    "Note: You should paste the dataset file in '~/.keras/datasets/' directory or it will start downloading it."
   ]
  },
  {
   "cell_type": "code",
   "execution_count": null,
   "metadata": {},
   "outputs": [],
   "source": [
    "(x_train, y_train), (x_test, y_test) = mnist.load_data()"
   ]
  },
  {
   "cell_type": "code",
   "execution_count": null,
   "metadata": {},
   "outputs": [],
   "source": [
    "print('train data dim:', x_train.shape)\n",
    "# Print x_test and y_test dimensions\n",
    "\n",
    "# Question: How many train/test samples does it have?\n",
    "\n",
    "# Print the minimum and maximum of x_train and x_test(use numpy min and max functions)\n"
   ]
  },
  {
   "cell_type": "markdown",
   "metadata": {},
   "source": [
    "** 1-1. Check a random sample of train data and its label. **"
   ]
  },
  {
   "cell_type": "code",
   "execution_count": null,
   "metadata": {},
   "outputs": [],
   "source": [
    "# generate a random number. (use numpy random.randint)\n",
    "rand_num = \n",
    "# plot using plt.imshow() & plt.show()\n",
    "plt.imshow(x_train[rand_num],cmap='gray')\n",
    "plt.show()\n",
    "# print its label\n"
   ]
  },
  {
   "cell_type": "markdown",
   "metadata": {},
   "source": [
    "**1-2. Our Network accept 1D data. So we should flatten our 2D image, then print the dimension of the result arrays.**\n",
    "\n",
    "Use numpy reshape function.\n"
   ]
  },
  {
   "cell_type": "code",
   "execution_count": null,
   "metadata": {},
   "outputs": [],
   "source": [
    "# Reshape x_train and x_test using numpy reshape function\n"
   ]
  },
  {
   "cell_type": "markdown",
   "metadata": {},
   "source": [
    "** 1-3. Normalize data by rescaling them to (0,1) **"
   ]
  },
  {
   "cell_type": "code",
   "execution_count": null,
   "metadata": {},
   "outputs": [],
   "source": [
    "# normalize x_train and x_test by dividing them by max of x_train:"
   ]
  },
  {
   "cell_type": "markdown",
   "metadata": {},
   "source": [
    "** 1-4. Convert label arrays to 1-hot representation **"
   ]
  },
  {
   "cell_type": "code",
   "execution_count": null,
   "metadata": {},
   "outputs": [],
   "source": [
    "# Use keras.utils.to_categorical\n"
   ]
  },
  {
   "cell_type": "markdown",
   "metadata": {},
   "source": [
    "## 2. Define Model"
   ]
  },
  {
   "cell_type": "markdown",
   "metadata": {},
   "source": [
    "** 2-0. Add the following layers to the network:**\n",
    "* Hidden Layer 1: Fully Conncted + Relu Activition (e.g. 512 Nuerons)\n",
    "* Hidden Layer 2: Fully Connected + Relu Activition (e.g. 512 Neurons)\n",
    "* Outout Layer: Fully Connected + Softmax Activition"
   ]
  },
  {
   "cell_type": "code",
   "execution_count": null,
   "metadata": {},
   "outputs": [],
   "source": [
    "model = Sequential()\n",
    "# Add the layers to model here.\n",
    "# Hidden Layer1: 512 Neurons+ relu activation + Normal Initialization mean=0, std = 0.1(RandomNormal). You Should define input shape for layer1\n",
    "\n",
    "# Hidden Layer2: 512 Neurons+ relu activation + Normal Initialization mean=0, std = 0.1(RandomNormal).\n",
    "\n",
    "# Output Layer1: Question: How many neurons?what kind of activation function? + Normal Initialization mean=0, std = 0.1(RandomNormal).\n"
   ]
  },
  {
   "cell_type": "markdown",
   "metadata": {},
   "source": [
    "** 2-1. Determine loss function, optimizer and metrics for the model **"
   ]
  },
  {
   "cell_type": "code",
   "execution_count": null,
   "metadata": {},
   "outputs": [],
   "source": [
    "# define the optimizer and its learning rate\n",
    "sgd = SGD(lr=0.01)\n",
    "# Use categorical_crossentropy as loss function, and accuracy as one of the metrics (you may add other metrics too). \n",
    "# use model.compile to add the above parameters to the model\n"
   ]
  },
  {
   "cell_type": "markdown",
   "metadata": {},
   "source": [
    "** 2-2. Print the review of the model **"
   ]
  },
  {
   "cell_type": "code",
   "execution_count": null,
   "metadata": {},
   "outputs": [],
   "source": [
    "model.summary()\n",
    "# Here we saved the raw model without any training. we will use it later.\n",
    "model.save('raw_model.h5')"
   ]
  },
  {
   "cell_type": "markdown",
   "metadata": {},
   "source": [
    "## 3. Train And Evaluate Model. "
   ]
  },
  {
   "cell_type": "markdown",
   "metadata": {},
   "source": [
    "** 3-0. Train model on training data using model.fit for 3 epoch**"
   ]
  },
  {
   "cell_type": "code",
   "execution_count": null,
   "metadata": {},
   "outputs": [],
   "source": [
    "# Use model.fit to train the model. Following hyperparameters are suggested (but you may change them if you want):\n",
    "# batch_size = 32\n",
    "# epochs = 3\n",
    "# Validation data percentage: 20%\n",
    "# use verbose for logging the training\n"
   ]
  },
  {
   "cell_type": "markdown",
   "metadata": {},
   "source": [
    "** 3-1. Evaluate model on test data using model.evaluate. Print the model accuracy on test set. **"
   ]
  },
  {
   "cell_type": "code",
   "execution_count": null,
   "metadata": {},
   "outputs": [],
   "source": []
  },
  {
   "cell_type": "markdown",
   "metadata": {},
   "source": [
    "** 3-2. Save model **\n",
    "\n",
    "In Keras, you can save the model to a HDF5 file(.h5) and reload it later simply by model.save(filepath) and keras.models.load_model(filepath), respectively.\n",
    "\n",
    "The saved model contains:\n",
    "* the architecture of the model, allowing to re-create the model\n",
    "* the weights of the model\n",
    "* the training configuration (loss, optimizer)\n",
    "* the state of the optimizer, allowing to resume training exactly where you left off.\n"
   ]
  },
  {
   "cell_type": "code",
   "execution_count": null,
   "metadata": {},
   "outputs": [],
   "source": [
    "# save model here:\n",
    "model.save('mlp.h5')\n",
    "# Delete model to make sure you reload it correctly:\n",
    "del model"
   ]
  },
  {
   "cell_type": "markdown",
   "metadata": {},
   "source": [
    "** 3-3. Load model and Predict label for a random image in train set. Verify predicted label by ploting the image. **"
   ]
  },
  {
   "cell_type": "code",
   "execution_count": null,
   "metadata": {
    "scrolled": true
   },
   "outputs": [],
   "source": [
    "# reload the model here:\n",
    "model = load_model('mlp.h5')\n",
    "# generate a random number. (use numpy random.randint) and use model.predict to predict its label. \n",
    "\n",
    "# print its label\n"
   ]
  },
  {
   "cell_type": "markdown",
   "metadata": {},
   "source": [
    "** 3-4. Continue training + Callbacks **\n",
    "\n",
    "Please Examine how these callbacks work. you may add other callbacks to this list."
   ]
  },
  {
   "cell_type": "code",
   "execution_count": null,
   "metadata": {},
   "outputs": [],
   "source": [
    "# We will use two callbacks here: EarlyStopping, CSVLogger (you may add other callbacks to this list)\n",
    "callback = [keras.callbacks.EarlyStopping(monitor='val_acc', verbose=1, min_delta=0.01, patience = 2, mode = 'max'),\n",
    "            keras.callbacks.CSVLogger('log.csv')]\n",
    "history = model.fit(x_train, y_train,\n",
    "                    batch_size = 32,\n",
    "                    epochs = 100,\n",
    "                    verbose = 1,\n",
    "                    validation_split = 0.2,\n",
    "                    callbacks = callback)\n",
    "\n",
    "plt.figure(figsize=(5,3))\n",
    "plt.plot(history.epoch,history.history['loss'])\n",
    "plt.title('loss')\n",
    "\n",
    "plt.figure(figsize=(5,3))\n",
    "plt.plot(history.epoch,history.history['acc'])\n",
    "plt.title('accuracy');"
   ]
  },
  {
   "cell_type": "markdown",
   "metadata": {},
   "source": [
    "## 4. Extras"
   ]
  },
  {
   "cell_type": "markdown",
   "metadata": {
    "collapsed": true
   },
   "source": [
    "** 4-0. Initialization is important! **\n",
    "\n",
    "Redefine Network, this time use mean=0 and std=1 for initialization.\n",
    "\n",
    "Then Try to fit the model.\n",
    "\n",
    "Repeat this with other initialization methods and parameters."
   ]
  },
  {
   "cell_type": "code",
   "execution_count": null,
   "metadata": {},
   "outputs": [],
   "source": []
  },
  {
   "cell_type": "markdown",
   "metadata": {},
   "source": [
    "** 4-1. Overfitting/Underfitting **\n",
    "\n",
    "Load the 'raw_model.h5' and this time use 1 percent of training data for training, and all test data for validation.\n"
   ]
  },
  {
   "cell_type": "code",
   "execution_count": null,
   "metadata": {},
   "outputs": [],
   "source": [
    "del model\n",
    "# Load model here and fit it with less data\n"
   ]
  },
  {
   "cell_type": "markdown",
   "metadata": {},
   "source": [
    "Now create another fully-connected model with 1 hidden layer(5 Neurons). Use all training data for training this model. (10 Training epoch)\n",
    "\n",
    "Observe the result."
   ]
  },
  {
   "cell_type": "code",
   "execution_count": null,
   "metadata": {},
   "outputs": [],
   "source": []
  },
  {
   "cell_type": "code",
   "execution_count": null,
   "metadata": {},
   "outputs": [],
   "source": []
  }
 ],
 "metadata": {
  "kernelspec": {
   "display_name": "Python 3",
   "language": "python",
   "name": "python3"
  },
  "language_info": {
   "codemirror_mode": {
    "name": "ipython",
    "version": 3
   },
   "file_extension": ".py",
   "mimetype": "text/x-python",
   "name": "python",
   "nbconvert_exporter": "python",
   "pygments_lexer": "ipython3",
   "version": "3.6.5"
  }
 },
 "nbformat": 4,
 "nbformat_minor": 2
}
